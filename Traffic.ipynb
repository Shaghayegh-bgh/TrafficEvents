{
  "cells": [
    {
      "cell_type": "markdown",
      "metadata": {
        "id": "u6P3sTLw_KC8"
      },
      "source": [
        "# **Shaghayegh Bagheri**"
      ]
    },
    {
      "cell_type": "markdown",
      "metadata": {
        "id": "ThVVm1tfpLFR"
      },
      "source": [
        "# Load Libraries"
      ]
    },
    {
      "cell_type": "code",
      "execution_count": null,
      "metadata": {
        "id": "2AmNYUlepPPP"
      },
      "outputs": [],
      "source": [
        "import dask.dataframe as dd\n",
        "import numpy as np\n",
        "\n"
      ]
    },
    {
      "cell_type": "markdown",
      "metadata": {
        "id": "8kJNoFJ5pWo_"
      },
      "source": [
        "# Data Extraction"
      ]
    },
    {
      "cell_type": "markdown",
      "metadata": {
        "id": "PioQr9YPoR3k"
      },
      "source": [
        "The dataset for the group B was uploaded to Google Drive. I first imported my Drive into Colab and initially tried to read the CSV file using the Pandas library, but it gave an error because the file was in tar.gz format."
      ]
    },
    {
      "cell_type": "markdown",
      "metadata": {
        "id": "8co3xUv-oXXB"
      },
      "source": [
        "So, after doing some research, I found out that this type of file can be handled by first creating a directory and then extracting the file using the following command.\n",
        "\n",
        "Resource : https://stackoverflow.com/questions/67910522/extract-tar-gz-file-and-save-again-extracted-file-using-google-colaboratory"
      ]
    },
    {
      "cell_type": "code",
      "execution_count": null,
      "metadata": {
        "colab": {
          "base_uri": "https://localhost:8080/"
        },
        "id": "cU2RDuwKZQ7v",
        "outputId": "d2695896-e82d-46ad-e769-f7dbe9623df7"
      },
      "outputs": [
        {
          "name": "stdout",
          "output_type": "stream",
          "text": [
            "mkdir: cannot create directory ‘/content/dataset’: File exists\n",
            "TrafficEvents_Aug16_Dec20_Publish.csv\n"
          ]
        }
      ],
      "source": [
        "!mkdir /content/dataset\n",
        "!tar -xvzf /content/drive/MyDrive/TrafficEvents_Aug16_Dec20_Publish.tar.gz -C /content/dataset\n"
      ]
    },
    {
      "cell_type": "markdown",
      "metadata": {
        "id": "BhohVZ2qozWx"
      },
      "source": [
        "In this section, I checked which files are present in there."
      ]
    },
    {
      "cell_type": "code",
      "execution_count": null,
      "metadata": {
        "colab": {
          "base_uri": "https://localhost:8080/"
        },
        "id": "wksMFpoFcIId",
        "outputId": "c7e84ce6-21be-41dd-980f-d8df56796b26"
      },
      "outputs": [
        {
          "name": "stdout",
          "output_type": "stream",
          "text": [
            "TrafficEvents_Aug16_Dec20_Publish.csv\n"
          ]
        }
      ],
      "source": [
        "!ls /content/dataset\n"
      ]
    },
    {
      "cell_type": "markdown",
      "metadata": {
        "id": "MhPrRxVbpcfY"
      },
      "source": [
        "In this part, to utilize the GPU, I used dask.dataframe instead of the Pandas library."
      ]
    },
    {
      "cell_type": "code",
      "execution_count": null,
      "metadata": {
        "colab": {
          "base_uri": "https://localhost:8080/"
        },
        "id": "csATs83dhd4J",
        "outputId": "3d7ce849-03bf-46ca-aad3-f1e1f786511d"
      },
      "outputs": [
        {
          "name": "stdout",
          "output_type": "stream",
          "text": [
            "   EventId        Type  Severity  TMC  \\\n",
            "0  T-38768  Congestion         2   73   \n",
            "1  T-38772  Congestion         2   72   \n",
            "2  T-38775  Congestion         2   72   \n",
            "3  T-38777  Congestion         1   75   \n",
            "4  T-38781  Congestion         2   75   \n",
            "\n",
            "                                         Description       StartTime(UTC)  \\\n",
            "0  Severe delays of 18 minutes on US-101 Redwood ...  2016-08-01 00:03:00   \n",
            "1  Delays of eight minutes on CA-92 San Mateo Rd ...  2016-08-01 00:07:00   \n",
            "2  Severe delays of 20 minutes and delays increas...  2016-08-01 00:00:00   \n",
            "3  Delays of two minutes on Valley Fwy Southbound...  2016-08-01 00:08:00   \n",
            "4  Delays of five minutes on CA-37 Sears Point Rd...  2016-08-01 00:13:00   \n",
            "\n",
            "          EndTime(UTC)    TimeZone  LocationLat  LocationLng  Distance(mi)  \\\n",
            "0  2016-08-01 00:14:28  US/Pacific    38.214657  -122.602669           0.0   \n",
            "1  2016-08-01 00:18:44  US/Pacific    37.477329  -122.415703           0.0   \n",
            "2  2016-08-01 00:18:44  US/Pacific    36.985863  -121.981026           0.0   \n",
            "3  2016-08-01 00:19:44  US/Pacific    37.105865  -121.613411           0.0   \n",
            "4  2016-08-01 00:27:26  US/Pacific    38.150387  -122.450569           0.0   \n",
            "\n",
            "  AirportCode   Number           Street Side           City       County  \\\n",
            "0        KO69      NaN    Redwood Hwy S    R       Petaluma       Sonoma   \n",
            "1        KHAF  12685.0     San Mateo Rd    L  Half Moon Bay    San Mateo   \n",
            "2        KWVI      NaN  State Highway 1    R     Santa Cruz   Santa Cruz   \n",
            "3        KE16      NaN   S Valley Fwy S    R     San Martin  Santa Clara   \n",
            "4        KO69      NaN   Sears Point Rd    R       Petaluma       Sonoma   \n",
            "\n",
            "  State  ZipCode  \n",
            "0    CA  94952.0  \n",
            "1    CA  94019.0  \n",
            "2    CA  95062.0  \n",
            "3    CA  95046.0  \n",
            "4    CA  94954.0  \n"
          ]
        }
      ],
      "source": [
        "gpu = dd.read_csv(\n",
        "    '/content/dataset/TrafficEvents_Aug16_Dec20_Publish.csv',\n",
        "    # when an integer column has missing values in some partitions,\n",
        "    # Dask cannot correctly infer its type and throws an error\n",
        "    dtype={'ZipCode': 'float64'}\n",
        ")\n",
        "\n",
        "print(gpu.head())\n",
        "\n"
      ]
    },
    {
      "cell_type": "markdown",
      "metadata": {
        "id": "tPvF1BZ7l6av"
      },
      "source": [
        "Number of total rows and columns"
      ]
    },
    {
      "cell_type": "code",
      "execution_count": null,
      "metadata": {
        "colab": {
          "base_uri": "https://localhost:8080/"
        },
        "id": "Qf1jlQgtm5ai",
        "outputId": "754b1961-6dad-4c64-b38f-1e3571f0a9c6"
      },
      "outputs": [
        {
          "name": "stdout",
          "output_type": "stream",
          "text": [
            "Number of total rows :  31355575\n"
          ]
        }
      ],
      "source": [
        "print(\"Number of total rows : \" , len(gpu))\n"
      ]
    },
    {
      "cell_type": "code",
      "execution_count": null,
      "metadata": {
        "colab": {
          "base_uri": "https://localhost:8080/"
        },
        "id": "AEFhbsAkv1k8",
        "outputId": "a4f6d4fd-0abb-4d62-d38d-d61239bee3db"
      },
      "outputs": [
        {
          "name": "stdout",
          "output_type": "stream",
          "text": [
            "Number of total columns : 19\n"
          ]
        }
      ],
      "source": [
        "print(\"Number of total columns : 19\")"
      ]
    },
    {
      "cell_type": "markdown",
      "metadata": {
        "id": "lkKqSo1Mv45j"
      },
      "source": [
        "# Sampling"
      ]
    },
    {
      "cell_type": "code",
      "execution_count": 22,
      "metadata": {
        "id": "_5E5Io33wBj6"
      },
      "outputs": [],
      "source": [
        "# random sampling\n",
        "sample_df = gpu.sample(frac=5000/len(gpu), random_state=42).compute()\n",
        "sample_df.to_csv(\"Traffic.csv\", index=False)"
      ]
    },
    {
      "cell_type": "markdown",
      "source": [
        "# Data Cleaning"
      ],
      "metadata": {
        "id": "y71fLhHd1RKs"
      }
    },
    {
      "cell_type": "code",
      "source": [
        "df = gpu.drop(columns=[\"EventId\"]) # deleted the whole EventId column\n",
        "print(df.head())"
      ],
      "metadata": {
        "colab": {
          "base_uri": "https://localhost:8080/"
        },
        "id": "woC2AIh01Rkd",
        "outputId": "bd426688-4cb4-4190-ccbf-32111927d0b5"
      },
      "execution_count": 27,
      "outputs": [
        {
          "output_type": "stream",
          "name": "stdout",
          "text": [
            "         Type  Severity  TMC  \\\n",
            "0  Congestion         2   73   \n",
            "1  Congestion         2   72   \n",
            "2  Congestion         2   72   \n",
            "3  Congestion         1   75   \n",
            "4  Congestion         2   75   \n",
            "\n",
            "                                         Description       StartTime(UTC)  \\\n",
            "0  Severe delays of 18 minutes on US-101 Redwood ...  2016-08-01 00:03:00   \n",
            "1  Delays of eight minutes on CA-92 San Mateo Rd ...  2016-08-01 00:07:00   \n",
            "2  Severe delays of 20 minutes and delays increas...  2016-08-01 00:00:00   \n",
            "3  Delays of two minutes on Valley Fwy Southbound...  2016-08-01 00:08:00   \n",
            "4  Delays of five minutes on CA-37 Sears Point Rd...  2016-08-01 00:13:00   \n",
            "\n",
            "          EndTime(UTC)    TimeZone  LocationLat  LocationLng  Distance(mi)  \\\n",
            "0  2016-08-01 00:14:28  US/Pacific    38.214657  -122.602669           0.0   \n",
            "1  2016-08-01 00:18:44  US/Pacific    37.477329  -122.415703           0.0   \n",
            "2  2016-08-01 00:18:44  US/Pacific    36.985863  -121.981026           0.0   \n",
            "3  2016-08-01 00:19:44  US/Pacific    37.105865  -121.613411           0.0   \n",
            "4  2016-08-01 00:27:26  US/Pacific    38.150387  -122.450569           0.0   \n",
            "\n",
            "  AirportCode   Number           Street Side           City       County  \\\n",
            "0        KO69      NaN    Redwood Hwy S    R       Petaluma       Sonoma   \n",
            "1        KHAF  12685.0     San Mateo Rd    L  Half Moon Bay    San Mateo   \n",
            "2        KWVI      NaN  State Highway 1    R     Santa Cruz   Santa Cruz   \n",
            "3        KE16      NaN   S Valley Fwy S    R     San Martin  Santa Clara   \n",
            "4        KO69      NaN   Sears Point Rd    R       Petaluma       Sonoma   \n",
            "\n",
            "  State  ZipCode  \n",
            "0    CA  94952.0  \n",
            "1    CA  94019.0  \n",
            "2    CA  95062.0  \n",
            "3    CA  95046.0  \n",
            "4    CA  94954.0  \n"
          ]
        }
      ]
    },
    {
      "cell_type": "code",
      "source": [
        "df.info()"
      ],
      "metadata": {
        "colab": {
          "base_uri": "https://localhost:8080/"
        },
        "id": "OsLXuhtg4j8S",
        "outputId": "f7336710-9c29-4e3b-acdf-a3d503b5bff3"
      },
      "execution_count": 28,
      "outputs": [
        {
          "output_type": "stream",
          "name": "stdout",
          "text": [
            "<class 'dask.dataframe.dask_expr.DataFrame'>\n",
            "Columns: 18 entries, Type to ZipCode\n",
            "dtypes: float64(5), int64(2), string(11)"
          ]
        }
      ]
    },
    {
      "cell_type": "markdown",
      "source": [
        "I converted the Side column, which only contained the letters L and R, into 0 and 1."
      ],
      "metadata": {
        "id": "fqv2Wo8e5cQM"
      }
    },
    {
      "cell_type": "code",
      "source": [
        "df['Side_binary'] = df['Side'].map({'L': 0, 'R': 1})\n",
        "df1 = df.drop(columns=[\"Side\"])\n",
        "print(df1.head())"
      ],
      "metadata": {
        "colab": {
          "base_uri": "https://localhost:8080/"
        },
        "id": "2lByATyf41Uz",
        "outputId": "ce7eaab9-5326-431f-c287-40cd25cd3f6b"
      },
      "execution_count": 32,
      "outputs": [
        {
          "output_type": "stream",
          "name": "stderr",
          "text": [
            "/usr/local/lib/python3.11/dist-packages/dask/dataframe/dask_expr/_collection.py:4208: UserWarning: \n",
            "You did not provide metadata, so Dask is running your function on a small dataset to guess output types. It is possible that Dask will guess incorrectly.\n",
            "To provide an explicit output types or to silence this message, please provide the `meta=` keyword, as described in the map function that you are using.\n",
            "  Before: .map(func)\n",
            "  After:  .map(func, meta=('Side', 'float64'))\n",
            "\n",
            "  warnings.warn(meta_warning(meta, method=\"map\"))\n"
          ]
        },
        {
          "output_type": "stream",
          "name": "stdout",
          "text": [
            "         Type  Severity  TMC  \\\n",
            "0  Congestion         2   73   \n",
            "1  Congestion         2   72   \n",
            "2  Congestion         2   72   \n",
            "3  Congestion         1   75   \n",
            "4  Congestion         2   75   \n",
            "\n",
            "                                         Description       StartTime(UTC)  \\\n",
            "0  Severe delays of 18 minutes on US-101 Redwood ...  2016-08-01 00:03:00   \n",
            "1  Delays of eight minutes on CA-92 San Mateo Rd ...  2016-08-01 00:07:00   \n",
            "2  Severe delays of 20 minutes and delays increas...  2016-08-01 00:00:00   \n",
            "3  Delays of two minutes on Valley Fwy Southbound...  2016-08-01 00:08:00   \n",
            "4  Delays of five minutes on CA-37 Sears Point Rd...  2016-08-01 00:13:00   \n",
            "\n",
            "          EndTime(UTC)    TimeZone  LocationLat  LocationLng  Distance(mi)  \\\n",
            "0  2016-08-01 00:14:28  US/Pacific    38.214657  -122.602669           0.0   \n",
            "1  2016-08-01 00:18:44  US/Pacific    37.477329  -122.415703           0.0   \n",
            "2  2016-08-01 00:18:44  US/Pacific    36.985863  -121.981026           0.0   \n",
            "3  2016-08-01 00:19:44  US/Pacific    37.105865  -121.613411           0.0   \n",
            "4  2016-08-01 00:27:26  US/Pacific    38.150387  -122.450569           0.0   \n",
            "\n",
            "  AirportCode   Number           Street           City       County State  \\\n",
            "0        KO69      NaN    Redwood Hwy S       Petaluma       Sonoma    CA   \n",
            "1        KHAF  12685.0     San Mateo Rd  Half Moon Bay    San Mateo    CA   \n",
            "2        KWVI      NaN  State Highway 1     Santa Cruz   Santa Cruz    CA   \n",
            "3        KE16      NaN   S Valley Fwy S     San Martin  Santa Clara    CA   \n",
            "4        KO69      NaN   Sears Point Rd       Petaluma       Sonoma    CA   \n",
            "\n",
            "   ZipCode  Side_binary  \n",
            "0  94952.0            1  \n",
            "1  94019.0            0  \n",
            "2  95062.0            1  \n",
            "3  95046.0            1  \n",
            "4  94954.0            1  \n"
          ]
        }
      ]
    },
    {
      "cell_type": "markdown",
      "source": [
        "# Finding outliars by Lan and Lot"
      ],
      "metadata": {
        "id": "9qnGKoh6_GX3"
      }
    },
    {
      "cell_type": "markdown",
      "source": [
        "For Finding outliars i used Z-score method."
      ],
      "metadata": {
        "id": "xqbDRrMQAZkL"
      }
    },
    {
      "cell_type": "code",
      "source": [
        "tf = dd.read_csv(\"/content/Traffic.csv\")\n",
        "\n",
        "\n",
        "lat_mean = tf['LocationLat'].mean().compute()\n",
        "lat_std = tf['LocationLat'].std().compute()\n",
        "\n",
        "lon_mean = tf['LocationLng'].mean().compute()\n",
        "lon_std = tf['LocationLng'].std().compute()\n",
        "\n",
        "# Z-score\n",
        "tf['lat_z'] = (tf['LocationLat'] - lat_mean) / lat_std\n",
        "tf['lon_z'] = (tf['LocationLng'] - lon_mean) / lon_std\n",
        "\n",
        "\n",
        "outliers = tf[(tf['lat_z'].abs() > 2) | (tf['lon_z'].abs() > 2)].compute()\n",
        "\n",
        "print(outliers.head())\n"
      ],
      "metadata": {
        "colab": {
          "base_uri": "https://localhost:8080/"
        },
        "id": "9BMkSc66_Gja",
        "outputId": "3f5892fe-366f-4357-91f1-6d16bb2f8874"
      },
      "execution_count": 37,
      "outputs": [
        {
          "output_type": "stream",
          "name": "stdout",
          "text": [
            "      EventId           Type  Severity   TMC  \\\n",
            "89   T-979367     Congestion         0    72   \n",
            "90   T-954962     Congestion         1    72   \n",
            "91   T-941512     Congestion         0    76   \n",
            "93  T-1040039  Flow-Incident         3  1804   \n",
            "97  T-1075629     Congestion         1    73   \n",
            "\n",
            "                                          Description       StartTime(UTC)  \\\n",
            "89  Delays increasing and delays of two minutes on...  2016-12-30 21:30:00   \n",
            "90  Delays of five minutes on Bird Rd Westbound be...  2016-12-12 21:05:00   \n",
            "91  Delays of two minutes on SW 177th Ave Southbou...  2016-12-02 22:57:00   \n",
            "93  Traffic signal failure on I-95 Northbound at E...  2016-11-14 12:28:21   \n",
            "97  Delays of two minutes on Tamiami Trl Northboun...  2016-09-22 21:28:00   \n",
            "\n",
            "           EndTime(UTC)    TimeZone  LocationLat  LocationLng  ...  \\\n",
            "89  2016-12-30 21:55:16  US/Eastern    26.528053   -81.869850  ...   \n",
            "90  2016-12-12 21:21:08  US/Eastern    25.734070   -80.287308  ...   \n",
            "91  2016-12-02 23:09:38  US/Eastern    25.797836   -80.482712  ...   \n",
            "93  2016-11-14 12:57:52  US/Eastern    26.203491   -80.143852  ...   \n",
            "97  2016-09-22 21:40:14  US/Eastern    26.330578   -81.805756  ...   \n",
            "\n",
            "    AirportCode   Number                           Street Side  \\\n",
            "89         KRSW  14930.0  Ben C Pratt/6 Mile Cypress Pkwy    L   \n",
            "90         KMIA   5701.0                          Bird Rd    R   \n",
            "91         KMIA      NaN                     SW 177th Ave    R   \n",
            "93         KFXE    692.0                       NE 62nd St    L   \n",
            "97         KAPF   8801.0               Bonita Beach Rd SE    R   \n",
            "\n",
            "               City      County State  ZipCode     lat_z     lon_z  \n",
            "89       Fort Myers         Lee    FL  33912.0 -2.036013  0.622160  \n",
            "90            Miami  Miami-Dade    FL  33155.0 -2.188869  0.713939  \n",
            "91            Miami  Miami-Dade    FL  33178.0 -2.176592  0.702607  \n",
            "93  Fort Lauderdale     Broward    FL  33334.0 -2.098497  0.722259  \n",
            "97   Bonita Springs         Lee    FL  34135.0 -2.074030  0.625877  \n",
            "\n",
            "[5 rows x 21 columns]\n"
          ]
        }
      ]
    }
  ],
  "metadata": {
    "accelerator": "GPU",
    "colab": {
      "gpuType": "T4",
      "provenance": []
    },
    "kernelspec": {
      "display_name": "Python 3",
      "name": "python3"
    },
    "language_info": {
      "name": "python"
    }
  },
  "nbformat": 4,
  "nbformat_minor": 0
}